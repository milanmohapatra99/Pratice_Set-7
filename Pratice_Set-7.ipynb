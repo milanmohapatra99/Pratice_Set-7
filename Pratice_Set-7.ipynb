{
 "cells": [
  {
   "cell_type": "code",
   "execution_count": 3,
   "id": "bc974942",
   "metadata": {},
   "outputs": [
    {
     "name": "stdout",
     "output_type": "stream",
     "text": [
      "Enter a number as input value: -8\n",
      "Number given by you is Negative Number\n"
     ]
    }
   ],
   "source": [
    "#w.a.p to check wheather the no is +ve or -ve  or 0\n",
    "def NumberCheck(a):   \n",
    "    if a > 0:   \n",
    "        print(\"Number given by you is Positive Number\")   \n",
    "    elif a < 0:   \n",
    "        print(\"Number given by you is Negative Number\")   \n",
    "    else:   \n",
    "        print(\"Number given by you is zero\")  \n",
    "a = float(input(\"Enter a number as input value: \"))  \n",
    "NumberCheck(a)  "
   ]
  },
  {
   "cell_type": "code",
   "execution_count": 4,
   "id": "137238d3",
   "metadata": {},
   "outputs": [
    {
     "name": "stdout",
     "output_type": "stream",
     "text": [
      "Please enter a character: k\n",
      "The ASCII value of 'k' is  107\n"
     ]
    }
   ],
   "source": [
    "# w.a.p to print ASCII Value of a character\n",
    "ch = input(\"Please enter a character: \")    \n",
    "print (\"The ASCII value of '\" + ch + \"' is \", ord(ch))  "
   ]
  },
  {
   "cell_type": "code",
   "execution_count": 14,
   "id": "ec741613",
   "metadata": {},
   "outputs": [
    {
     "name": "stdout",
     "output_type": "stream",
     "text": [
      "Enter n value:-5\n",
      "55\n"
     ]
    }
   ],
   "source": [
    "# w.a.p for Sum of squares of first n natural numbers\n",
    "def squaresum(n) :\n",
    "    sm = 0\n",
    "    for i in range(1, n+1) :\n",
    "        sm = sm + (i * i)\n",
    "    return sm\n",
    "n = int(input(\"Enter n value:-\"))\n",
    "print(squaresum(n))"
   ]
  },
  {
   "cell_type": "code",
   "execution_count": 20,
   "id": "909d5463",
   "metadata": {},
   "outputs": [
    {
     "name": "stdout",
     "output_type": "stream",
     "text": [
      "Enter n value:-5\n",
      "225\n"
     ]
    }
   ],
   "source": [
    "# w.a.p for cube sum of first n natural numbers\n",
    "def sumOfCubes(n):\n",
    "    sum = 0\n",
    "    for i in range(1, n+1):\n",
    "        sum +=i*i*i\n",
    "    return sum\n",
    "n = int(input(\"Enter n value:-\"))\n",
    "print(sumOfCubes(n))\n",
    "\n"
   ]
  },
  {
   "cell_type": "code",
   "execution_count": null,
   "id": "b974c9a3",
   "metadata": {},
   "outputs": [],
   "source": []
  }
 ],
 "metadata": {
  "kernelspec": {
   "display_name": "Python 3 (ipykernel)",
   "language": "python",
   "name": "python3"
  },
  "language_info": {
   "codemirror_mode": {
    "name": "ipython",
    "version": 3
   },
   "file_extension": ".py",
   "mimetype": "text/x-python",
   "name": "python",
   "nbconvert_exporter": "python",
   "pygments_lexer": "ipython3",
   "version": "3.9.7"
  }
 },
 "nbformat": 4,
 "nbformat_minor": 5
}
